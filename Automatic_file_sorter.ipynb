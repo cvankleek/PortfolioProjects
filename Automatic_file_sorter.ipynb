{
 "cells": [
  {
   "cell_type": "markdown",
   "id": "b5d62f2c-5b78-4e24-9405-1f6d9c9c2c38",
   "metadata": {},
   "source": [
    "# Automatic File Sorter in File Explorer"
   ]
  },
  {
   "cell_type": "code",
   "execution_count": 1,
   "id": "4a1f0722-0aa7-4cc7-b00a-a7fa4fb18ab2",
   "metadata": {},
   "outputs": [],
   "source": [
    "import os, shutil"
   ]
  },
  {
   "cell_type": "code",
   "execution_count": 10,
   "id": "dde6018b-3b58-496a-aa41-acc3283ca398",
   "metadata": {},
   "outputs": [],
   "source": [
    "path = r\"C:/Users/chada/OneDrive/Documents/Python file sort/\""
   ]
  },
  {
   "cell_type": "code",
   "execution_count": 35,
   "id": "2c585f1e-4df8-4d8d-b3b4-beaf25639af9",
   "metadata": {},
   "outputs": [
    {
     "data": {
      "text/plain": [
       "['csv files',\n",
       " 'image files',\n",
       " 'R packages.docx',\n",
       " 'Screenshot 2023-11-16 134732.png',\n",
       " 'text files',\n",
       " 'Video Game Sales Kaggle.csv',\n",
       " 'word files']"
      ]
     },
     "execution_count": 35,
     "metadata": {},
     "output_type": "execute_result"
    }
   ],
   "source": [
    "os.listdir(path)"
   ]
  },
  {
   "cell_type": "code",
   "execution_count": 36,
   "id": "2c0da42e-0edd-4832-b8ea-618cd6201f8e",
   "metadata": {},
   "outputs": [],
   "source": [
    "file_name = os.listdir(path)"
   ]
  },
  {
   "cell_type": "code",
   "execution_count": 37,
   "id": "065ba614-4ff6-4849-979e-d668505497fa",
   "metadata": {},
   "outputs": [
    {
     "name": "stdout",
     "output_type": "stream",
     "text": [
      "Done\n",
      "Done\n",
      "Done\n",
      "Done\n"
     ]
    }
   ],
   "source": [
    "folder_names = ['csv files', 'image files', 'word files', 'text files']\n",
    "\n",
    "for loop in range(0,4):\n",
    "    if not os.path.exists(path + folder_names[loop]):\n",
    "        os.makedirs((path + folder_names[loop]))\n",
    "\n",
    "for file in file_name: \n",
    "    if \".csv\" in file and not os.path.exists(path + \"/csv files\" + file):\n",
    "        shutil.move(path + file, path + \"csv files/\" + file)\n",
    "    elif \".png\" in file and not os.path.exists(path + \"/image files\" + file):\n",
    "        shutil.move(path + file, path + \"image files/\" + file)\n",
    "    elif \".docx\" in file and not os.path.exists(path + \"/word files\" + file):\n",
    "        shutil.move(path + file, path + \"word files/\" + file)\n",
    "    else:\n",
    "        print (\"Done\")"
   ]
  },
  {
   "cell_type": "code",
   "execution_count": 27,
   "id": "fa0a05c5-7108-43e0-af80-a1195c7679ff",
   "metadata": {},
   "outputs": [
    {
     "name": "stdout",
     "output_type": "stream",
     "text": [
      "Done\n",
      "Done\n",
      "Done\n",
      "Done\n"
     ]
    }
   ],
   "source": [
    "for file in file_name: \n",
    "    if \".csv\" in file and not os.path.exists(path + \"/csv files\" + file):\n",
    "        shutil.move(path + file, path + \"csv files/\" + file)\n",
    "    elif \".png\" in file and not os.path.exists(path + \"/image files\" + file):\n",
    "        shutil.move(path + file, path + \"image files/\" + file)\n",
    "    elif \".docx\" in file and not os.path.exists(path + \"/word files\" + file):\n",
    "        shutil.move(path + file, path + \"word files/\" + file)\n",
    "    elif \".txt\" in file and not os.path.exists(path + \"/text files\" + file):\n",
    "        shutil.move(path + file, path + \"text files/\" + file)\n",
    "    else:\n",
    "        print (\"Done\")"
   ]
  },
  {
   "cell_type": "code",
   "execution_count": null,
   "id": "80d09674-7eb3-4a17-a791-750c532e835d",
   "metadata": {},
   "outputs": [],
   "source": []
  },
  {
   "cell_type": "code",
   "execution_count": null,
   "id": "b46742a4-c0e9-47b7-b237-09eba6a931f6",
   "metadata": {},
   "outputs": [],
   "source": []
  },
  {
   "cell_type": "code",
   "execution_count": null,
   "id": "c8324516-4c09-48a8-902a-37a3a5e11f02",
   "metadata": {},
   "outputs": [],
   "source": []
  },
  {
   "cell_type": "code",
   "execution_count": null,
   "id": "1e77949a-9230-434e-b7c1-ff7f359424fe",
   "metadata": {},
   "outputs": [],
   "source": []
  },
  {
   "cell_type": "code",
   "execution_count": null,
   "id": "0d6b6cde-68fd-4ae6-9e82-e4eb28bdf307",
   "metadata": {},
   "outputs": [],
   "source": []
  },
  {
   "cell_type": "code",
   "execution_count": null,
   "id": "101ca859-1a3b-49fd-a53a-5f7226449098",
   "metadata": {},
   "outputs": [],
   "source": []
  },
  {
   "cell_type": "code",
   "execution_count": null,
   "id": "12e9abc6-b63e-4e48-ad96-c3ee28af20f2",
   "metadata": {},
   "outputs": [],
   "source": []
  },
  {
   "cell_type": "code",
   "execution_count": null,
   "id": "19ff27fd-7805-436f-a77c-299c2d5cf572",
   "metadata": {},
   "outputs": [],
   "source": []
  },
  {
   "cell_type": "code",
   "execution_count": null,
   "id": "e0627efe-2391-4362-95e6-b71af6cbd5ae",
   "metadata": {},
   "outputs": [],
   "source": []
  },
  {
   "cell_type": "code",
   "execution_count": null,
   "id": "25f0f550-91ae-4865-becd-4d0bcf34eadf",
   "metadata": {},
   "outputs": [],
   "source": []
  },
  {
   "cell_type": "code",
   "execution_count": null,
   "id": "be26a52f-c680-427b-a5b0-7a0eac6728ca",
   "metadata": {},
   "outputs": [],
   "source": []
  }
 ],
 "metadata": {
  "kernelspec": {
   "display_name": "Python 3 (ipykernel)",
   "language": "python",
   "name": "python3"
  },
  "language_info": {
   "codemirror_mode": {
    "name": "ipython",
    "version": 3
   },
   "file_extension": ".py",
   "mimetype": "text/x-python",
   "name": "python",
   "nbconvert_exporter": "python",
   "pygments_lexer": "ipython3",
   "version": "3.11.7"
  }
 },
 "nbformat": 4,
 "nbformat_minor": 5
}
