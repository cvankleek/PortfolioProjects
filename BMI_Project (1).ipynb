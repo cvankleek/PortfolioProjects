{
 "cells": [
  {
   "cell_type": "code",
   "execution_count": 29,
   "id": "017e38ec-d853-4f78-a367-1620118da22f",
   "metadata": {},
   "outputs": [
    {
     "name": "stdin",
     "output_type": "stream",
     "text": [
      "Enter your name.  Chad\n",
      "Enter your weight in pounds:  240\n",
      "Enter your height in inches:  76\n"
     ]
    },
    {
     "name": "stdout",
     "output_type": "stream",
     "text": [
      "29.210526315789473\n",
      "Chad, You are overweight.\n"
     ]
    }
   ],
   "source": [
    "name = input(\"Enter your name. \")\n",
    "\n",
    "weight = int(input(\"Enter your weight in pounds: \"))\n",
    "\n",
    "height = int(input(\"Enter your height in inches: \"))\n",
    "\n",
    "BMI = (weight * 703) / (height * height)\n",
    "\n",
    "print(BMI)\n",
    "\n",
    "if BMI>0:\n",
    "    if(BMI<18.5):\n",
    "        print(name +\", You are underweight.\")\n",
    "    elif (BMI<=24.9):\n",
    "        print(name +\", You are normal weight.\")\n",
    "    elif (BMI<=29.9):\n",
    "        print(name +\", You are overweight.\")\n",
    "    elif (BMI<=34.9):\n",
    "        print(name +\", You are obese.\")\n",
    "    elif (BMI<=39.9):\n",
    "        print(name +\", You are severely obese.\")\n",
    "    else:\n",
    "        print(name +\", You are morbidly obese.\")\n",
    "else:\n",
    "    print(\"Enter valid input.\")"
   ]
  },
  {
   "cell_type": "code",
   "execution_count": null,
   "id": "e71387ed-daca-4865-90f4-42e192bfd16c",
   "metadata": {},
   "outputs": [],
   "source": []
  },
  {
   "cell_type": "code",
   "execution_count": null,
   "id": "4c8dd642-633e-43c4-b090-456eac39d44e",
   "metadata": {},
   "outputs": [],
   "source": []
  },
  {
   "cell_type": "code",
   "execution_count": null,
   "id": "df22572d-0797-4d6f-ad4f-8bfd494a3859",
   "metadata": {},
   "outputs": [],
   "source": []
  },
  {
   "cell_type": "code",
   "execution_count": null,
   "id": "c94e5aa2-d9f0-4fad-9462-a9bb2ffe34ce",
   "metadata": {},
   "outputs": [],
   "source": [
    "#BMI = (weight in pounds x 703) /(height in inches x height in inches)"
   ]
  },
  {
   "cell_type": "code",
   "execution_count": null,
   "id": "14c513d6-1ba7-442c-8341-656574d8d31c",
   "metadata": {},
   "outputs": [],
   "source": [
    "Under 18.5->Underweight-Minimal\n",
    "18.5 - 24.9>Normal weight-->Minimal\n",
    "25 - 29.9-->Overweight->Increases\n",
    "30 - 34.9-->Obese-->High\n",
    "35 - 39.9-->Severely Obese->Very High\n",
    "40 and over>Morbidly Obese->Extremely High"
   ]
  },
  {
   "cell_type": "code",
   "execution_count": 21,
   "id": "0a6a3c81-778c-41a9-9e8a-a5409a64e543",
   "metadata": {},
   "outputs": [
    {
     "name": "stdout",
     "output_type": "stream",
     "text": [
      "Chad, You are overweight.\n"
     ]
    }
   ],
   "source": [
    "if BMI>0:\n",
    "    if(BMI<18.5):\n",
    "        print(name +\", You are underweight.\")\n",
    "    elif (BMI<=24.9):\n",
    "        print(name +\", You are normal weight.\")\n",
    "    elif (BMI<=29.9):\n",
    "        print(name +\", You are overweight.\")\n",
    "    elif (BMI<=34.9):\n",
    "        print(name +\", You are obese.\")\n",
    "    elif (BMI<=39.9):\n",
    "        print(name +\", You are severely obese.\")\n",
    "    else:\n",
    "        print(name +\", You are morbidly obese.\")\n",
    "else:\n",
    "    print(\"Enter valid input.\")"
   ]
  },
  {
   "cell_type": "code",
   "execution_count": null,
   "id": "13f00b33-850c-4212-bd79-4243a0270fb2",
   "metadata": {},
   "outputs": [],
   "source": []
  },
  {
   "cell_type": "code",
   "execution_count": null,
   "id": "79f02e77-d1b5-44b2-95bc-bea13c1a8cc5",
   "metadata": {},
   "outputs": [],
   "source": []
  },
  {
   "cell_type": "code",
   "execution_count": null,
   "id": "ccef5aa3-859f-48bf-8f04-cbe7aa836253",
   "metadata": {},
   "outputs": [],
   "source": []
  },
  {
   "cell_type": "code",
   "execution_count": null,
   "id": "0cd2c0d8-520a-4ba6-8b04-4b447082e617",
   "metadata": {},
   "outputs": [],
   "source": []
  },
  {
   "cell_type": "code",
   "execution_count": null,
   "id": "0eaf470c-cfbd-4043-a3cf-1f37f0b9306b",
   "metadata": {},
   "outputs": [],
   "source": []
  },
  {
   "cell_type": "code",
   "execution_count": null,
   "id": "4eb768cb-cb58-4329-88e8-85481e7e665b",
   "metadata": {},
   "outputs": [],
   "source": []
  },
  {
   "cell_type": "code",
   "execution_count": null,
   "id": "6dd1610a-d92b-4f9d-921a-39e5acbb03f9",
   "metadata": {},
   "outputs": [],
   "source": []
  },
  {
   "cell_type": "code",
   "execution_count": null,
   "id": "0c464378-25b9-4d1e-8af5-83dd21b8ca24",
   "metadata": {},
   "outputs": [],
   "source": []
  },
  {
   "cell_type": "code",
   "execution_count": null,
   "id": "73bbc844-0c20-41d1-9688-2976748dbacc",
   "metadata": {},
   "outputs": [],
   "source": []
  },
  {
   "cell_type": "code",
   "execution_count": null,
   "id": "29ba3a97-f93e-482e-bfe8-af909866d10c",
   "metadata": {},
   "outputs": [],
   "source": []
  },
  {
   "cell_type": "code",
   "execution_count": null,
   "id": "0b1a5fe3-f1fe-4916-bc11-784dbcac8549",
   "metadata": {},
   "outputs": [],
   "source": []
  },
  {
   "cell_type": "code",
   "execution_count": null,
   "id": "1c899aee-62fb-454f-b8f1-30e7408bdcb9",
   "metadata": {},
   "outputs": [],
   "source": []
  },
  {
   "cell_type": "code",
   "execution_count": null,
   "id": "c3ed59cd-826e-4964-878a-58f8e8345559",
   "metadata": {},
   "outputs": [],
   "source": []
  }
 ],
 "metadata": {
  "kernelspec": {
   "display_name": "Python 3 (ipykernel)",
   "language": "python",
   "name": "python3"
  },
  "language_info": {
   "codemirror_mode": {
    "name": "ipython",
    "version": 3
   },
   "file_extension": ".py",
   "mimetype": "text/x-python",
   "name": "python",
   "nbconvert_exporter": "python",
   "pygments_lexer": "ipython3",
   "version": "3.11.7"
  }
 },
 "nbformat": 4,
 "nbformat_minor": 5
}
